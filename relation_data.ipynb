{
 "cells": [
  {
   "cell_type": "code",
   "execution_count": 24,
   "id": "6eb827e7",
   "metadata": {},
   "outputs": [
    {
     "ename": "ImportError",
     "evalue": "cannot import name 'save_sparse_relation_embedding' from 'utils' (c:\\Users\\hp\\work\\stock_relation_strat\\utils.py)",
     "output_type": "error",
     "traceback": [
      "\u001b[1;31m---------------------------------------------------------------------------\u001b[0m",
      "\u001b[1;31mImportError\u001b[0m                               Traceback (most recent call last)",
      "Cell \u001b[1;32mIn[24], line 5\u001b[0m\n\u001b[0;32m      3\u001b[0m \u001b[38;5;28;01mimport\u001b[39;00m \u001b[38;5;21;01mjson\u001b[39;00m\n\u001b[0;32m      4\u001b[0m \u001b[38;5;28;01mimport\u001b[39;00m \u001b[38;5;21;01mscipy\u001b[39;00m\u001b[38;5;21;01m.\u001b[39;00m\u001b[38;5;21;01msparse\u001b[39;00m \u001b[38;5;28;01mas\u001b[39;00m \u001b[38;5;21;01msp\u001b[39;00m\n\u001b[1;32m----> 5\u001b[0m \u001b[38;5;28;01mfrom\u001b[39;00m \u001b[38;5;21;01mutils\u001b[39;00m \u001b[38;5;28;01mimport\u001b[39;00m save_sparse_relation_embedding\n",
      "\u001b[1;31mImportError\u001b[0m: cannot import name 'save_sparse_relation_embedding' from 'utils' (c:\\Users\\hp\\work\\stock_relation_strat\\utils.py)"
     ]
    }
   ],
   "source": [
    "import numpy as np\n",
    "import pandas as pd\n",
    "import json\n",
    "import scipy.sparse as sp\n",
    "from utils import save_sparse_relation_embedding, build_relation_embedding"
   ]
  },
  {
   "cell_type": "code",
   "execution_count": 9,
   "id": "5391f5de",
   "metadata": {},
   "outputs": [],
   "source": [
    "stock_relation = pd.read_csv('data/stock_relation.csv')\n",
    "stock_codes = np.load('data/stock_codes.npy', allow_pickle=True)"
   ]
  },
  {
   "cell_type": "code",
   "execution_count": 10,
   "id": "14ee5977",
   "metadata": {},
   "outputs": [],
   "source": [
    "def build_relation_dict(stock_relation, stock_codes, \n",
    "                        ticker_industry=\"申万二级行业\",\n",
    "                        ticker_code =\"股票代码\"):\n",
    "    # 构建行业到股票代码的映射\n",
    "    industries = {}\n",
    "    for _, row in stock_relation.iterrows():\n",
    "        code = row[ticker_code]\n",
    "        code = code.split('.')[0]\n",
    "        industry = row[ticker_industry]\n",
    "        # 只保留在stock_codes中的股票\n",
    "        if code in stock_codes:\n",
    "            industries.setdefault(industry, []).append(code)\n",
    "    return industries"
   ]
  },
  {
   "cell_type": "code",
   "execution_count": 11,
   "id": "8e6721f8",
   "metadata": {},
   "outputs": [],
   "source": [
    "industry_dict = build_relation_dict(stock_relation, stock_codes)\n",
    "\n",
    "with open('data/industry_dict.json', 'w', encoding='utf-8') as f:\n",
    "    json.dump(industry_dict, f, ensure_ascii=False, indent=2)"
   ]
  },
  {
   "cell_type": "code",
   "execution_count": 12,
   "id": "3bcdca3a",
   "metadata": {},
   "outputs": [],
   "source": [
    "import json\n",
    "\n",
    "with open('industry_dict.json', 'w', encoding='utf-8') as f:\n",
    "    json.dump(industry_dict, f, ensure_ascii=False, indent=2)"
   ]
  },
  {
   "cell_type": "code",
   "execution_count": 14,
   "id": "4b3e8496",
   "metadata": {},
   "outputs": [],
   "source": [
    "relation_embedding = build_relation_embedding(stock_codes, industry_dict)"
   ]
  },
  {
   "cell_type": "code",
   "execution_count": 15,
   "id": "d89a6f1e",
   "metadata": {},
   "outputs": [
    {
     "data": {
      "text/plain": [
       "(3212, 3212, 129)"
      ]
     },
     "execution_count": 15,
     "metadata": {},
     "output_type": "execute_result"
    }
   ],
   "source": [
    "relation_embedding.shape"
   ]
  },
  {
   "cell_type": "code",
   "execution_count": 23,
   "id": "8bad72e7",
   "metadata": {},
   "outputs": [],
   "source": [
    "xsave_sparse_relation_embedding(relation_embedding, 'data/relation_embedding_sparse.npz')"
   ]
  }
 ],
 "metadata": {
  "kernelspec": {
   "display_name": "fx",
   "language": "python",
   "name": "python3"
  },
  "language_info": {
   "codemirror_mode": {
    "name": "ipython",
    "version": 3
   },
   "file_extension": ".py",
   "mimetype": "text/x-python",
   "name": "python",
   "nbconvert_exporter": "python",
   "pygments_lexer": "ipython3",
   "version": "3.8.20"
  }
 },
 "nbformat": 4,
 "nbformat_minor": 5
}
