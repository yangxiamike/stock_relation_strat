{
 "cells": [
  {
   "cell_type": "code",
   "execution_count": 62,
   "id": "f4f9ce36",
   "metadata": {},
   "outputs": [],
   "source": [
    "import pandas as pd\n",
    "import numpy as np\n",
    "import os\n",
    "import talib as ta\n",
    "from utils import classify_stock_exchange, pre_adj_factor"
   ]
  },
  {
   "cell_type": "code",
   "execution_count": 63,
   "id": "17477074",
   "metadata": {},
   "outputs": [],
   "source": [
    "raw_data_path = \"D:\\股票数据\\stock_temporal\"\n",
    "\n",
    "stock_list = os.listdir(raw_data_path)\n",
    "stock_list = [s.split(\".\")[0] for s in stock_list if s.endswith('.csv')]\n",
    "\n",
    "exchange_codes = classify_stock_exchange(stock_list)\n",
    "\n",
    "exchange_codes.to_csv(\"data/exchange_codes.csv\", encoding='utf-8-sig')"
   ]
  },
  {
   "cell_type": "code",
   "execution_count": 64,
   "id": "d8be0740",
   "metadata": {},
   "outputs": [
    {
     "name": "stderr",
     "output_type": "stream",
     "text": [
      "Processing stocks: 100%|██████████| 3767/3767 [00:45<00:00, 82.63it/s] \n"
     ]
    }
   ],
   "source": [
    "from tqdm import tqdm\n",
    "from concurrent.futures import ThreadPoolExecutor, as_completed\n",
    "\n",
    "# 参数声明\n",
    "start_date = '20210501'\n",
    "end_date = '20250501'\n",
    "target_exchange = ['上交所', '深交所']\n",
    "ticker_price = \"收盘价\"\n",
    "ticker_date = \"交易日期\"\n",
    "ticker_factor = \"复权因子\"\n",
    "\n",
    "# 过滤沪深所股票代码\n",
    "hs_codes = exchange_codes.loc[exchange_codes['exchange'].isin(target_exchange), 'code'].tolist()\n",
    "\n",
    "# 读取所有沪深所股票的close数据\n",
    "data = {}\n",
    "\n",
    "def process_stock(code):\n",
    "    file_path = os.path.join(raw_data_path, f\"{code}.csv\")\n",
    "    if os.path.exists(file_path):\n",
    "        df = pd.read_csv(file_path, dtype={'code': str})\n",
    "        df[ticker_date] = pd.to_datetime(df[ticker_date], format='%Y%m%d')\n",
    "        df.sort_values(by=ticker_date, inplace=True, ascending=True)\n",
    "        # 前复权调整\n",
    "        df = pre_adj_factor(df, ticker_price, ticker_factor)\n",
    "        df = df[(df[ticker_date] >= pd.to_datetime(start_date)) & (df[ticker_date] <= pd.to_datetime(end_date))]\n",
    "        return code, df.set_index(ticker_date)[ticker_price]\n",
    "    else:\n",
    "        return code, pd.Series(name=ticker_price, dtype=float)\n",
    "\n",
    "with ThreadPoolExecutor() as executor:\n",
    "    futures = {executor.submit(process_stock, code): code for code in hs_codes}\n",
    "    for future in tqdm(as_completed(futures), total=len(futures), desc=\"Processing stocks\"):\n",
    "        code, series = future.result()\n",
    "        data[code] = series\n",
    "\n",
    "\n",
    "# 合并为一个DataFrame，index为交易日，columns为股票代码\n",
    "df_panel = pd.DataFrame(data)"
   ]
  },
  {
   "cell_type": "code",
   "execution_count": 65,
   "id": "fbf4662c",
   "metadata": {},
   "outputs": [],
   "source": [
    "df_panel.to_csv(\"data/hs_close_prices_2205_2505.csv\", encoding='utf-8-sig')"
   ]
  },
  {
   "cell_type": "code",
   "execution_count": 66,
   "id": "9004e702",
   "metadata": {},
   "outputs": [
    {
     "name": "stdout",
     "output_type": "stream",
     "text": [
      "清洗后剩余股票数量: 2520\n"
     ]
    }
   ],
   "source": [
    "na_ratio_eps = 0.01\n",
    "price_eps = 3\n",
    "\n",
    "# 对价格做清洗处理\n",
    "# 计算每只股票的缺失率\n",
    "nan_ratio = df_panel.isna().mean()\n",
    "# 过滤缺失率超过2%的股票\n",
    "df_panel_clean = df_panel.loc[:, nan_ratio <= na_ratio_eps]\n",
    "# 计算每只股票的最小价格\n",
    "min_price = df_panel_clean.min()\n",
    "# 过滤最小价格低于2元的股票\n",
    "df_panel_clean = df_panel_clean.loc[:, min_price >= price_eps]\n",
    "df_panel_clean.sort_index(axis=1, inplace=True)\n",
    "\n",
    "# 查看清洗后股票数量\n",
    "print(f\"清洗后剩余股票数量: {df_panel_clean.shape[1]}\")"
   ]
  },
  {
   "cell_type": "code",
   "execution_count": 67,
   "id": "00ee7abb",
   "metadata": {},
   "outputs": [],
   "source": [
    "df_panel_clean.to_csv(\"data/hs_close_prices_2205_2505.csv\", encoding='utf-8-sig')"
   ]
  },
  {
   "cell_type": "code",
   "execution_count": 68,
   "id": "398ab1f6",
   "metadata": {},
   "outputs": [],
   "source": [
    "# 输出df_panel_clean的所有股票代码（列名），保存到data文件夹\n",
    "selected_codes = df_panel_clean.columns.tolist()\n",
    "selected_codes.sort()\n",
    "pd.Series(selected_codes).to_csv(\"data/selected_stock_codes.csv\", index=False, header=False, encoding='utf-8-sig')"
   ]
  },
  {
   "cell_type": "code",
   "execution_count": 69,
   "id": "ea605e28",
   "metadata": {},
   "outputs": [],
   "source": [
    "windows = [5, 10, 20, 30, 60]\n",
    "\n",
    "# 先对每只股票dropna，再计算EMA，最后reindex回原始index，保证对齐\n",
    "ma_dfs = {}\n",
    "for w in windows:\n",
    "    df_ma = df_panel_clean.copy()\n",
    "    for col in df_ma.columns:\n",
    "        s = df_ma[col]\n",
    "        s_drop = s.dropna()\n",
    "        ema = ta.EMA(s_drop.values, timeperiod=w)\n",
    "        # reindex到原始index，NaN自动补齐\n",
    "        ema_series = pd.Series(ema, index=s_drop.index).reindex(s.index)\n",
    "        df_ma[col] = ema_series\n",
    "    ma_dfs[w] = df_ma\n",
    "    # 归一化处理，使用log(ma(close)/close)\n",
    "    # ma_dfs[w] = np.log(df_ma / df_panel_clean)\n"
   ]
  },
  {
   "cell_type": "code",
   "execution_count": 70,
   "id": "d1ce62b4",
   "metadata": {},
   "outputs": [],
   "source": [
    "import numpy as np\n",
    "\n",
    "max_ma_days = max(windows)\n",
    "return_days = 5\n",
    "trading_dates = df_panel_clean.index.to_list()\n",
    "stock_codes = df_panel_clean.columns.to_list()\n",
    "num_dates = len(trading_dates[max_ma_days:-return_days])\n",
    "num_stocks = len(stock_codes)\n",
    "num_features = len(windows) + 3  # 日期序号 + 均线特征数 + 掩码 + 未来收益\n",
    "\n",
    "# 初始化特征矩阵\n",
    "feature_matrix = np.zeros((num_dates, num_stocks, num_features))\n",
    "\n",
    "# 1. 日期序号特征\n",
    "date_idx = np.arange(num_dates)\n",
    "feature_matrix[:, :, 0] = date_idx[:, None]  # 广播到所有股票\n",
    "\n",
    "# 2. 均线特征\n",
    "for i, w in enumerate(windows):\n",
    "    ma = ma_dfs[w].iloc[max_ma_days:-return_days].values  # [日期, 股票]\n",
    "    feature_matrix[:, :, i+1] = ma\n",
    "\n",
    "# 特征名\n",
    "features = ['date_idx'] + [f'MA_{w}' for w in windows]\n",
    "\n",
    "# 3. 未来收益标签（可单独保存为 [日期, 股票] 的二维数组）\n",
    "future_returns = df_panel_clean.shift(-return_days) / df_panel_clean - 1\n",
    "\n",
    "# 将future_return 空值保存为return_mask掩码\n",
    "return_mask = (future_returns.iloc[max_ma_days:-return_days].isna() | df_panel_clean.iloc[max_ma_days:-return_days].isna())\n",
    "return_mask = ~return_mask\n",
    "feature_matrix[:, :, -2] = return_mask.astype(float)  # 掩码作为倒数第二维特征\n",
    "features.append('掩码')\n",
    "\n",
    "# 将price t0 t+5空值设为1e-9，训练中用掩码避开\n",
    "future_returns[(df_panel_clean.shift(-return_days).isna()) | (df_panel_clean.isna())] = -1e9\n",
    "# 将特征矩阵中的 nan 替换为 -1e9，便于后续掩码处理\n",
    "feature_matrix[np.isnan(feature_matrix)] = -1e9\n",
    "\n",
    "future_returns = future_returns.iloc[max_ma_days:-return_days].values  # [日期, 股票]\n",
    "feature_matrix[:, :, -1] = future_returns  # 未来收益作为最后一维特征\n",
    "features.append('future_return')\n",
    "\n",
    "assert feature_matrix.shape[0] == return_mask.shape[0] == future_returns.shape[0], \"时间点数量不一致\"\n",
    "assert feature_matrix.shape[1] == return_mask.shape[1] == future_returns.shape[1], \"股票数量不一致\"\n"
   ]
  },
  {
   "cell_type": "code",
   "execution_count": 71,
   "id": "e440c4b8",
   "metadata": {},
   "outputs": [
    {
     "name": "stdout",
     "output_type": "stream",
     "text": [
      "训练集大小: 541, 验证集大小: 180, 测试集大小: 182\n"
     ]
    }
   ],
   "source": [
    "valid_ratio = 0.2\n",
    "test_ratio = 0.2\n",
    "# 计算划分索引\n",
    "num_train = int(num_dates * (1 - valid_ratio - test_ratio))\n",
    "num_valid = int(num_dates * valid_ratio)\n",
    "num_test = num_dates - num_train - num_valid\n",
    "\n",
    "valid_start_idx = num_train\n",
    "test_start_idx = num_train + num_valid\n",
    "\n",
    "print(f\"训练集大小: {num_train}, 验证集大小: {num_valid}, 测试集大小: {num_test}\")"
   ]
  },
  {
   "cell_type": "code",
   "execution_count": 72,
   "id": "6ca4d6b6",
   "metadata": {},
   "outputs": [],
   "source": [
    "import yaml\n",
    "\n",
    "# 保存\n",
    "np.save('data/feature_matrix.npy', feature_matrix)\n",
    "np.save('data/feature_names.npy', features)\n",
    "np.save('data/stock_codes.npy', stock_codes)\n",
    "\n",
    "# Load existing config\n",
    "with open('configs/rank_lstm_config.yaml', 'r', encoding='utf-8') as f:\n",
    "    config = yaml.safe_load(f)\n",
    "\n",
    "# Update split info\n",
    "config['data']['split_info'] = {\n",
    "    'num_train': num_train,\n",
    "    'num_valid': num_valid,\n",
    "    'num_test': num_test,\n",
    "    'valid_start_idx': valid_start_idx,\n",
    "    'test_start_idx': test_start_idx,\n",
    "}\n",
    "\n",
    "# Save updated config\n",
    "with open('configs/rank_lstm_config.yaml', 'w', encoding='utf-8') as f:\n",
    "    yaml.dump(config, f, allow_unicode=True)"
   ]
  }
 ],
 "metadata": {
  "kernelspec": {
   "display_name": "fx",
   "language": "python",
   "name": "python3"
  },
  "language_info": {
   "codemirror_mode": {
    "name": "ipython",
    "version": 3
   },
   "file_extension": ".py",
   "mimetype": "text/x-python",
   "name": "python",
   "nbconvert_exporter": "python",
   "pygments_lexer": "ipython3",
   "version": "3.8.20"
  }
 },
 "nbformat": 4,
 "nbformat_minor": 5
}
