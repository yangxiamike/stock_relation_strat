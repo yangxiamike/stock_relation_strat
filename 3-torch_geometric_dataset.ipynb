{
 "cells": [
  {
   "cell_type": "code",
   "execution_count": 1,
   "id": "initial_id",
   "metadata": {
    "collapsed": true,
    "ExecuteTime": {
     "end_time": "2024-05-14T08:52:17.658501400Z",
     "start_time": "2024-05-14T08:52:09.920551700Z"
    }
   },
   "outputs": [],
   "source": [
    "import numpy as np\n",
    "import pandas as pd\n",
    "from torch_geometric.data import Data"
   ]
  },
  {
   "cell_type": "markdown",
   "source": [
    "# PyTorch Geometric custom Dataset\n",
    "This module illustrates the process part of the custom dataset creation for PyG done in the `datasets/SP100Stocks.py` file.\n",
    "The Dataset class is used to create a custom dataset and use it with PyG modules.\n",
    "**Note: To use this notebook, first execute notebooks 1 and 2.**"
   ],
   "metadata": {
    "collapsed": false
   },
   "id": "db2c911eeece5042"
  },
  {
   "cell_type": "markdown",
   "source": [
    "## Processing the graph data\n",
    "The next cells demonstrate the adjacency matrix and historical values processing done in the `Dataset.process(*)` method.   "
   ],
   "metadata": {
    "collapsed": false
   },
   "id": "f0d5871931936f9b"
  },
  {
   "cell_type": "markdown",
   "source": [
    "### Opening the historical values and the adjacency matrix\n",
    "The goal is here to create T (the number of timestamps) graphs, one for each timestep. We use the same adjacency matrix for all the graphs as the structure is based on fundamentals and will not change."
   ],
   "metadata": {
    "collapsed": false
   },
   "id": "d0dbd3cc8fd5b29b"
  },
  {
   "cell_type": "code",
   "outputs": [
    {
     "data": {
      "text/plain": "                                      Close  NormClose  DailyLogReturn  \\\nSymbol Date                                                              \nAAPL   2019-07-15 00:00:00-04:00  49.511898  -1.878514        0.467715   \n       2019-07-16 00:00:00-04:00  49.340595  -1.882459       -0.173349   \n       2019-07-17 00:00:00-04:00  49.063137  -1.888850       -0.282053   \n       2019-07-18 00:00:00-04:00  49.620468  -1.876013        0.564958   \n       2019-07-19 00:00:00-04:00  48.879761  -1.893074       -0.752247   \n\n                                     ALR1W     ALR2W     ALR1M     ALR2M  \\\nSymbol Date                                                                \nAAPL   2019-07-15 00:00:00-04:00  0.633083  0.634758  0.659704  0.708706   \n       2019-07-16 00:00:00-04:00  0.397144  0.254995  0.705227  0.579131   \n       2019-07-17 00:00:00-04:00  0.014589  0.053592  0.567244  0.568765   \n       2019-07-18 00:00:00-04:00  0.474378  0.106982  0.424941  0.711989   \n       2019-07-19 00:00:00-04:00 -0.086458 -0.141486  0.280705  0.852988   \n\n                                       RSI      MACD  \nSymbol Date                                           \nAAPL   2019-07-15 00:00:00-04:00  0.650352  0.846853  \n       2019-07-16 00:00:00-04:00  0.631510  0.836485  \n       2019-07-17 00:00:00-04:00  0.601131  0.796695  \n       2019-07-18 00:00:00-04:00  0.638726  0.800902  \n       2019-07-19 00:00:00-04:00  0.562803  0.735982  ",
      "text/html": "<div>\n<style scoped>\n    .dataframe tbody tr th:only-of-type {\n        vertical-align: middle;\n    }\n\n    .dataframe tbody tr th {\n        vertical-align: top;\n    }\n\n    .dataframe thead th {\n        text-align: right;\n    }\n</style>\n<table border=\"1\" class=\"dataframe\">\n  <thead>\n    <tr style=\"text-align: right;\">\n      <th></th>\n      <th></th>\n      <th>Close</th>\n      <th>NormClose</th>\n      <th>DailyLogReturn</th>\n      <th>ALR1W</th>\n      <th>ALR2W</th>\n      <th>ALR1M</th>\n      <th>ALR2M</th>\n      <th>RSI</th>\n      <th>MACD</th>\n    </tr>\n    <tr>\n      <th>Symbol</th>\n      <th>Date</th>\n      <th></th>\n      <th></th>\n      <th></th>\n      <th></th>\n      <th></th>\n      <th></th>\n      <th></th>\n      <th></th>\n      <th></th>\n    </tr>\n  </thead>\n  <tbody>\n    <tr>\n      <th rowspan=\"5\" valign=\"top\">AAPL</th>\n      <th>2019-07-15 00:00:00-04:00</th>\n      <td>49.511898</td>\n      <td>-1.878514</td>\n      <td>0.467715</td>\n      <td>0.633083</td>\n      <td>0.634758</td>\n      <td>0.659704</td>\n      <td>0.708706</td>\n      <td>0.650352</td>\n      <td>0.846853</td>\n    </tr>\n    <tr>\n      <th>2019-07-16 00:00:00-04:00</th>\n      <td>49.340595</td>\n      <td>-1.882459</td>\n      <td>-0.173349</td>\n      <td>0.397144</td>\n      <td>0.254995</td>\n      <td>0.705227</td>\n      <td>0.579131</td>\n      <td>0.631510</td>\n      <td>0.836485</td>\n    </tr>\n    <tr>\n      <th>2019-07-17 00:00:00-04:00</th>\n      <td>49.063137</td>\n      <td>-1.888850</td>\n      <td>-0.282053</td>\n      <td>0.014589</td>\n      <td>0.053592</td>\n      <td>0.567244</td>\n      <td>0.568765</td>\n      <td>0.601131</td>\n      <td>0.796695</td>\n    </tr>\n    <tr>\n      <th>2019-07-18 00:00:00-04:00</th>\n      <td>49.620468</td>\n      <td>-1.876013</td>\n      <td>0.564958</td>\n      <td>0.474378</td>\n      <td>0.106982</td>\n      <td>0.424941</td>\n      <td>0.711989</td>\n      <td>0.638726</td>\n      <td>0.800902</td>\n    </tr>\n    <tr>\n      <th>2019-07-19 00:00:00-04:00</th>\n      <td>48.879761</td>\n      <td>-1.893074</td>\n      <td>-0.752247</td>\n      <td>-0.086458</td>\n      <td>-0.141486</td>\n      <td>0.280705</td>\n      <td>0.852988</td>\n      <td>0.562803</td>\n      <td>0.735982</td>\n    </tr>\n  </tbody>\n</table>\n</div>"
     },
     "execution_count": 2,
     "metadata": {},
     "output_type": "execute_result"
    }
   ],
   "source": [
    "values = pd.read_csv('../data/SP100/raw/values.csv').set_index(['Symbol', 'Date'])\n",
    "values.head()"
   ],
   "metadata": {
    "collapsed": false,
    "ExecuteTime": {
     "end_time": "2024-05-14T08:52:18.131366600Z",
     "start_time": "2024-05-14T08:52:17.660504200Z"
    }
   },
   "id": "f9ae698bfd8614ed",
   "execution_count": 2
  },
  {
   "cell_type": "code",
   "outputs": [
    {
     "data": {
      "text/plain": "array([[0.        , 0.        , 0.        , 0.        , 0.        ,\n        0.        , 0.        , 0.        , 0.        , 0.        ],\n       [0.        , 0.        , 0.        , 0.        , 0.        ,\n        0.        , 0.        , 0.88339223, 0.        , 0.        ],\n       [0.        , 0.        , 0.        , 0.        , 0.        ,\n        0.        , 0.        , 0.        , 0.72791519, 0.        ],\n       [0.        , 0.        , 0.        , 0.        , 0.        ,\n        0.        , 0.        , 0.        , 0.        , 0.        ],\n       [0.        , 0.        , 0.        , 0.        , 0.        ,\n        0.        , 0.        , 0.        , 0.        , 0.        ],\n       [0.        , 0.        , 0.        , 0.        , 0.        ,\n        0.        , 0.        , 0.        , 0.        , 0.        ],\n       [0.        , 0.        , 0.        , 0.        , 0.        ,\n        0.        , 0.        , 0.        , 0.        , 0.7385159 ],\n       [0.        , 0.88339223, 0.        , 0.        , 0.        ,\n        0.        , 0.        , 0.        , 0.        , 0.        ],\n       [0.        , 0.        , 0.72791519, 0.        , 0.        ,\n        0.        , 0.        , 0.        , 0.        , 0.        ],\n       [0.        , 0.        , 0.        , 0.        , 0.        ,\n        0.        , 0.7385159 , 0.        , 0.        , 0.        ]])"
     },
     "execution_count": 3,
     "metadata": {},
     "output_type": "execute_result"
    }
   ],
   "source": [
    "adj = np.load('../data/SP100/raw/adj.npy')\n",
    "adj[:10, :10]"
   ],
   "metadata": {
    "collapsed": false,
    "ExecuteTime": {
     "end_time": "2024-05-14T08:52:18.142146200Z",
     "start_time": "2024-05-14T08:52:18.133359900Z"
    }
   },
   "id": "e62d8b9de2cf6f8f",
   "execution_count": 3
  },
  {
   "cell_type": "markdown",
   "source": [
    "### Creating the feature matrix and edge indices\n",
    "The feature matrix is a 3D matrix of shape (stocks_nb, features_nb, timestamps_nb). The adjacency matrix is used to create the edge_index matrix in the PyTorch Geomtric format."
   ],
   "metadata": {
    "collapsed": false
   },
   "id": "70d75e9347a5fdaa"
  },
  {
   "cell_type": "code",
   "outputs": [
    {
     "data": {
      "text/plain": "((100, 8, 1217), (2, 524), (524,))"
     },
     "execution_count": 4,
     "metadata": {},
     "output_type": "execute_result"
    }
   ],
   "source": [
    "nodes_nb = len(adj)\n",
    "x = np.array(\n",
    "\tvalues.drop(columns=[\"Close\"]).to_numpy().reshape((nodes_nb, -1, values.shape[1] - 1))\n",
    ")  # shape (nodes_nb, timestamps_nb, features_nb)\n",
    "x = np.swapaxes(x, 1, 2)  # shape (nodes_nb, features_nb, timestamps_nb)\n",
    "\n",
    "edge_nb = np.count_nonzero(adj)\n",
    "edge_index = np.zeros((2, edge_nb))\n",
    "edge_weight = np.zeros((edge_nb,))\n",
    "count = 0\n",
    "for i in range(nodes_nb):\n",
    "\tfor j in range(nodes_nb):\n",
    "\t\tif (weight := adj[i, j]) != 0:\n",
    "\t\t\tedge_index[0, count], edge_index[1, count] = i, j\n",
    "\t\t\tedge_weight[count] = weight\n",
    "\t\t\tcount += 1\n",
    "x.shape, edge_index.shape, edge_weight.shape"
   ],
   "metadata": {
    "collapsed": false,
    "ExecuteTime": {
     "end_time": "2024-05-14T08:52:18.196519700Z",
     "start_time": "2024-05-14T08:52:18.146682800Z"
    }
   },
   "id": "a7e77ff7de8e4885",
   "execution_count": 4
  },
  {
   "cell_type": "markdown",
   "source": [
    "### Building the graphs\n",
    "Finally, the graphs can be built using the Data class for PyG."
   ],
   "metadata": {
    "collapsed": false
   },
   "id": "571cd2502ef4162b"
  },
  {
   "cell_type": "code",
   "outputs": [
    {
     "data": {
      "text/plain": "[Data(x=[100, 8, 25], edge_index=[2, 524], y=[100, 1], edge_weight=[524]),\n Data(x=[100, 8, 25], edge_index=[2, 524], y=[100, 1], edge_weight=[524]),\n Data(x=[100, 8, 25], edge_index=[2, 524], y=[100, 1], edge_weight=[524]),\n Data(x=[100, 8, 25], edge_index=[2, 524], y=[100, 1], edge_weight=[524]),\n Data(x=[100, 8, 25], edge_index=[2, 524], y=[100, 1], edge_weight=[524])]"
     },
     "execution_count": 5,
     "metadata": {},
     "output_type": "execute_result"
    }
   ],
   "source": [
    "past_window, future_window = 25, 1\n",
    "timestamps = [\n",
    "\tData(x=x[:, :, idx:idx+past_window], edge_index=edge_index, edge_weight=edge_weight, y=x[:, 0, idx+past_window:idx+past_window+future_window]) for idx in range(x.shape[0] - past_window - future_window)\n",
    "]\n",
    "timestamps[:5]"
   ],
   "metadata": {
    "collapsed": false,
    "ExecuteTime": {
     "end_time": "2024-05-14T08:52:18.222122Z",
     "start_time": "2024-05-14T08:52:18.179212100Z"
    }
   },
   "id": "13c180da9a448d2c",
   "execution_count": 5
  },
  {
   "cell_type": "markdown",
   "source": [
    "## Defining the PyTorch Geometric datasets\n",
    "The previously defined method is used to process the data and create a standard PyG Dataset class.\n",
    "The dataset contains graphs with 3d node features -- data for the timestamps $[\\![t, t+T[\\![$ -- and a target variable -- the variation at time $t+T$ --.\n",
    "\n",
    "These dataset is used in the next notebooks. The code is in the `datasets/SP100Stocks.py` file."
   ],
   "metadata": {
    "collapsed": false
   },
   "id": "5d2e96ceeac9e9dc"
  },
  {
   "cell_type": "code",
   "outputs": [],
   "source": [
    "from datasets.SP100Stocks import SP100Stocks"
   ],
   "metadata": {
    "collapsed": false,
    "ExecuteTime": {
     "end_time": "2024-05-14T08:52:18.301654700Z",
     "start_time": "2024-05-14T08:52:18.193971Z"
    }
   },
   "id": "1c33410e2089e910",
   "execution_count": 6
  },
  {
   "cell_type": "code",
   "outputs": [
    {
     "name": "stderr",
     "output_type": "stream",
     "text": [
      "Processing...\n",
      "Done!\n"
     ]
    },
    {
     "data": {
      "text/plain": "(SP100Stocks(1191),\n Data(x=[100, 8, 25], edge_index=[2, 524], y=[100, 1], edge_weight=[524], close_price=[100, 25], close_price_y=[100, 1]))"
     },
     "execution_count": 7,
     "metadata": {},
     "output_type": "execute_result"
    }
   ],
   "source": [
    "dataset = SP100Stocks()\n",
    "dataset, dataset[0]"
   ],
   "metadata": {
    "collapsed": false,
    "ExecuteTime": {
     "end_time": "2024-05-14T08:52:44.078756200Z",
     "start_time": "2024-05-14T08:52:18.220128900Z"
    }
   },
   "id": "259c6749e3cd8c3b",
   "execution_count": 7
  }
 ],
 "metadata": {
  "kernelspec": {
   "display_name": "Python 3",
   "language": "python",
   "name": "python3"
  },
  "language_info": {
   "codemirror_mode": {
    "name": "ipython",
    "version": 2
   },
   "file_extension": ".py",
   "mimetype": "text/x-python",
   "name": "python",
   "nbconvert_exporter": "python",
   "pygments_lexer": "ipython2",
   "version": "2.7.6"
  }
 },
 "nbformat": 4,
 "nbformat_minor": 5
}
